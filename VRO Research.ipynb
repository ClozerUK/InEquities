{
 "cells": [
  {
   "cell_type": "code",
   "execution_count": 245,
   "metadata": {},
   "outputs": [],
   "source": [
    "import datetime\n",
    "import numpy as np\n",
    "import datetime\n",
    "import pandas as pd\n",
    "from datetime import timedelta\n",
    "import ipywidgets as widgets\n",
    "from ipywidgets import interact, interact_manual\n",
    "\n",
    "epoch = datetime.datetime.utcfromtimestamp(0)\n",
    "def unix_time_millis(dt):\n",
    "    return int(round((dt - epoch).total_seconds() * 1000.0, 0))\n"
   ]
  },
  {
   "cell_type": "code",
   "execution_count": 246,
   "metadata": {},
   "outputs": [],
   "source": [
    "prices = pd.read_csv ('latest_prices.csv')\n",
    "max_price_date = prices.Date.max()"
   ]
  },
  {
   "cell_type": "code",
   "execution_count": 247,
   "metadata": {},
   "outputs": [
    {
     "data": {
      "text/html": [
       "<div>\n",
       "<style scoped>\n",
       "    .dataframe tbody tr th:only-of-type {\n",
       "        vertical-align: middle;\n",
       "    }\n",
       "\n",
       "    .dataframe tbody tr th {\n",
       "        vertical-align: top;\n",
       "    }\n",
       "\n",
       "    .dataframe thead th {\n",
       "        text-align: right;\n",
       "    }\n",
       "</style>\n",
       "<table border=\"1\" class=\"dataframe\">\n",
       "  <thead>\n",
       "    <tr style=\"text-align: right;\">\n",
       "      <th></th>\n",
       "      <th>UnixDate</th>\n",
       "      <th>Price</th>\n",
       "      <th>Date</th>\n",
       "      <th>1d_change</th>\n",
       "      <th>5d_change</th>\n",
       "      <th>10d_change</th>\n",
       "      <th>20d_change</th>\n",
       "      <th>30d_change</th>\n",
       "      <th>50d_change</th>\n",
       "      <th>100d_change</th>\n",
       "      <th>150d_change</th>\n",
       "      <th>200d_change</th>\n",
       "      <th>250d_change</th>\n",
       "      <th>Stock Name</th>\n",
       "      <th>ticker_id</th>\n",
       "    </tr>\n",
       "  </thead>\n",
       "  <tbody>\n",
       "    <tr>\n",
       "      <th>60</th>\n",
       "      <td>1586447940000</td>\n",
       "      <td>474.3</td>\n",
       "      <td>2020-04-09</td>\n",
       "      <td>0.023301</td>\n",
       "      <td>-0.047495</td>\n",
       "      <td>0.116263</td>\n",
       "      <td>-0.100256</td>\n",
       "      <td>-0.165406</td>\n",
       "      <td>-0.154018</td>\n",
       "      <td>-0.026678</td>\n",
       "      <td>0.281372</td>\n",
       "      <td>0.483578</td>\n",
       "      <td>0.429045</td>\n",
       "      <td>Berger Paints India</td>\n",
       "      <td>488.0</td>\n",
       "    </tr>\n",
       "  </tbody>\n",
       "</table>\n",
       "</div>"
      ],
      "text/plain": [
       "         UnixDate  Price        Date  1d_change  5d_change  10d_change  \\\n",
       "60  1586447940000  474.3  2020-04-09   0.023301  -0.047495    0.116263   \n",
       "\n",
       "    20d_change  30d_change  50d_change  100d_change  150d_change  200d_change  \\\n",
       "60   -0.100256   -0.165406   -0.154018    -0.026678     0.281372     0.483578   \n",
       "\n",
       "    250d_change           Stock Name  ticker_id  \n",
       "60     0.429045  Berger Paints India      488.0  "
      ]
     },
     "execution_count": 247,
     "metadata": {},
     "output_type": "execute_result"
    }
   ],
   "source": [
    "prices[(prices['Stock Name'].str.startswith('Berger')) ]"
   ]
  },
  {
   "cell_type": "code",
   "execution_count": 248,
   "metadata": {},
   "outputs": [],
   "source": [
    "file_name = 'vro_revenues.csv'\n",
    "all_data = pd.read_csv(file_name)\n",
    "all_data = all_data[~all_data['Stock Name'].str.startswith('S&P')]"
   ]
  },
  {
   "cell_type": "code",
   "execution_count": 249,
   "metadata": {},
   "outputs": [
    {
     "data": {
      "text/plain": [
       "(2994, 9)"
      ]
     },
     "execution_count": 249,
     "metadata": {},
     "output_type": "execute_result"
    }
   ],
   "source": [
    "all_data['1y_change'] = all_data.sort_values('Date').groupby(['Stock Name', 'name']).value.pct_change(1)\n",
    "all_data['2y_change'] = all_data.sort_values('Date').groupby(['Stock Name', 'name']).value.pct_change(2)\n",
    "all_data['3y_change'] = all_data.sort_values('Date').groupby(['Stock Name', 'name']).value.pct_change(3)\n",
    "all_data = all_data[all_data['1y_change']>0]\n",
    "all_data = all_data[all_data['2y_change']>0]\n",
    "all_data = all_data[all_data.name != 'RoE']\n",
    "stocks_with_positive_cash_flow = all_data[(all_data.name=='Cash From Operations') & (all_data.value > 0)]['Stock Name'].unique().tolist()\n",
    "all_data = all_data[all_data['Stock Name'].isin(stocks_with_positive_cash_flow)]\n",
    "all_data.dropna(inplace=True)\n",
    "all_data.shape"
   ]
  },
  {
   "cell_type": "code",
   "execution_count": 250,
   "metadata": {},
   "outputs": [
    {
     "data": {
      "text/html": [
       "<div>\n",
       "<style scoped>\n",
       "    .dataframe tbody tr th:only-of-type {\n",
       "        vertical-align: middle;\n",
       "    }\n",
       "\n",
       "    .dataframe tbody tr th {\n",
       "        vertical-align: top;\n",
       "    }\n",
       "\n",
       "    .dataframe thead th {\n",
       "        text-align: right;\n",
       "    }\n",
       "</style>\n",
       "<table border=\"1\" class=\"dataframe\">\n",
       "  <thead>\n",
       "    <tr style=\"text-align: right;\">\n",
       "      <th></th>\n",
       "      <th>Date</th>\n",
       "      <th>Stock Name</th>\n",
       "      <th>name</th>\n",
       "      <th>ticker_id</th>\n",
       "      <th>value</th>\n",
       "      <th>yearly_change</th>\n",
       "      <th>1y_change</th>\n",
       "      <th>2y_change</th>\n",
       "      <th>3y_change</th>\n",
       "    </tr>\n",
       "  </thead>\n",
       "  <tbody>\n",
       "    <tr>\n",
       "      <th>18384</th>\n",
       "      <td>2019-03-01</td>\n",
       "      <td>Berger Paints India</td>\n",
       "      <td>Revenue</td>\n",
       "      <td>488.0</td>\n",
       "      <td>6061.86</td>\n",
       "      <td>0.173476</td>\n",
       "      <td>0.173476</td>\n",
       "      <td>0.331618</td>\n",
       "      <td>0.435405</td>\n",
       "    </tr>\n",
       "    <tr>\n",
       "      <th>18385</th>\n",
       "      <td>2019-12-01</td>\n",
       "      <td>Berger Paints India</td>\n",
       "      <td>Revenue</td>\n",
       "      <td>488.0</td>\n",
       "      <td>6483.07</td>\n",
       "      <td>0.069485</td>\n",
       "      <td>0.069485</td>\n",
       "      <td>0.255015</td>\n",
       "      <td>0.424146</td>\n",
       "    </tr>\n",
       "    <tr>\n",
       "      <th>18389</th>\n",
       "      <td>2019-03-01</td>\n",
       "      <td>Berger Paints India</td>\n",
       "      <td>Earnings</td>\n",
       "      <td>488.0</td>\n",
       "      <td>5.13</td>\n",
       "      <td>0.080000</td>\n",
       "      <td>0.080000</td>\n",
       "      <td>0.051230</td>\n",
       "      <td>0.342932</td>\n",
       "    </tr>\n",
       "    <tr>\n",
       "      <th>18390</th>\n",
       "      <td>2019-12-01</td>\n",
       "      <td>Berger Paints India</td>\n",
       "      <td>Earnings</td>\n",
       "      <td>488.0</td>\n",
       "      <td>6.86</td>\n",
       "      <td>0.337232</td>\n",
       "      <td>0.337232</td>\n",
       "      <td>0.444211</td>\n",
       "      <td>0.405738</td>\n",
       "    </tr>\n",
       "    <tr>\n",
       "      <th>63079</th>\n",
       "      <td>2019-03-01</td>\n",
       "      <td>Berger Paints India</td>\n",
       "      <td>Cash From Operations</td>\n",
       "      <td>488.0</td>\n",
       "      <td>561.67</td>\n",
       "      <td>0.331287</td>\n",
       "      <td>0.331287</td>\n",
       "      <td>0.423715</td>\n",
       "      <td>-0.055334</td>\n",
       "    </tr>\n",
       "  </tbody>\n",
       "</table>\n",
       "</div>"
      ],
      "text/plain": [
       "             Date           Stock Name                  name  ticker_id  \\\n",
       "18384  2019-03-01  Berger Paints India               Revenue      488.0   \n",
       "18385  2019-12-01  Berger Paints India               Revenue      488.0   \n",
       "18389  2019-03-01  Berger Paints India              Earnings      488.0   \n",
       "18390  2019-12-01  Berger Paints India              Earnings      488.0   \n",
       "63079  2019-03-01  Berger Paints India  Cash From Operations      488.0   \n",
       "\n",
       "         value  yearly_change  1y_change  2y_change  3y_change  \n",
       "18384  6061.86       0.173476   0.173476   0.331618   0.435405  \n",
       "18385  6483.07       0.069485   0.069485   0.255015   0.424146  \n",
       "18389     5.13       0.080000   0.080000   0.051230   0.342932  \n",
       "18390     6.86       0.337232   0.337232   0.444211   0.405738  \n",
       "63079   561.67       0.331287   0.331287   0.423715  -0.055334  "
      ]
     },
     "execution_count": 250,
     "metadata": {},
     "output_type": "execute_result"
    }
   ],
   "source": [
    "all_data[all_data['Stock Name'].str.startswith('Berg') ]"
   ]
  },
  {
   "cell_type": "code",
   "execution_count": 251,
   "metadata": {},
   "outputs": [
    {
     "data": {
      "text/plain": [
       "(71459.0, 611934.0, '2019-12-01')"
      ]
     },
     "execution_count": 251,
     "metadata": {},
     "output_type": "execute_result"
    }
   ],
   "source": [
    "max_revenue = all_data[all_data.name=='Revenue'].value.max()\n",
    "max_cash = all_data[all_data.name=='Cash From Operations'].value.max()\n",
    "max_vro_cash_flow_date = all_data[all_data.name == 'Cash From Operations']['Date'].max()\n",
    "max_vro_revenue_date = all_data[all_data.name == 'Revenue']['Date'].max()\n",
    "max_cash, max_revenue, max_vro_cash_flow_date"
   ]
  },
  {
   "cell_type": "code",
   "execution_count": 252,
   "metadata": {},
   "outputs": [
    {
     "data": {
      "application/vnd.jupyter.widget-view+json": {
       "model_id": "75c2549b01ee4228b1b1a63f11650bb4",
       "version_major": 2,
       "version_minor": 0
      },
      "text/plain": [
       "interactive(children=(IntSlider(value=6, description='cash_flow_change', max=10, min=2), IntSlider(value=6, de…"
      ]
     },
     "metadata": {},
     "output_type": "display_data"
    }
   ],
   "source": [
    "@interact\n",
    "def filter_cash_flow(cash_flow_change = (2,10), revenue_1y_change = (2,10), min_revenue = (4000, 15000, 500), discount=(-20, 20, 2)):\n",
    "    stocks_by_cash_change = all_data.loc[(all_data.name == 'Cash From Operations') & (all_data['1y_change'] > cash_flow_change/100) & (all_data.Date >= '2019-03-01') ]['Stock Name'].unique().tolist()\n",
    "    stocks_by_rev_change = all_data.loc[(all_data.name == 'Revenue') & (all_data['1y_change'] > revenue_1y_change/100) & (all_data.Date >= '2019-12-01')]['Stock Name'].unique().tolist()\n",
    "    stock_with_min_revenue = all_data.loc[(all_data.name == 'Revenue') & (all_data.value >= min_revenue)]['Stock Name'].unique().tolist()\n",
    "    stocks = set(stocks_by_cash_change).intersection(set(stocks_by_rev_change)).intersection(set(stock_with_min_revenue))\n",
    "    df= all_data.loc[(all_data['Stock Name'].isin(stocks)) & (all_data.Date == max_vro_revenue_date) ]\n",
    "    df = df.loc[(df.name == 'Revenue')]\n",
    "    df = df.merge(prices, on ='Stock Name', how='left')\n",
    "    df = df.drop(['100d_change', '200d_change', '150d_change', 'yearly_change', 'value', '3y_change', 'Date_x', 'ticker_id_x', 'ticker_id_y', 'UnixDate'], axis=1)\n",
    "#     Show stocks fallen down by \n",
    "    df = df[df['30d_change']<discount/100].drop_duplicates()\n",
    "    return df.sort_values(['30d_change'])\n"
   ]
  },
  {
   "cell_type": "code",
   "execution_count": null,
   "metadata": {},
   "outputs": [],
   "source": []
  },
  {
   "cell_type": "code",
   "execution_count": 243,
   "metadata": {},
   "outputs": [
    {
     "name": "stdout",
     "output_type": "stream",
     "text": [
      "------- END ---------\n"
     ]
    }
   ],
   "source": [
    "print(\"------- END ---------\")"
   ]
  },
  {
   "cell_type": "code",
   "execution_count": null,
   "metadata": {},
   "outputs": [],
   "source": []
  }
 ],
 "metadata": {
  "kernelspec": {
   "display_name": "Python 3",
   "language": "python",
   "name": "python3"
  },
  "language_info": {
   "codemirror_mode": {
    "name": "ipython",
    "version": 3
   },
   "file_extension": ".py",
   "mimetype": "text/x-python",
   "name": "python",
   "nbconvert_exporter": "python",
   "pygments_lexer": "ipython3",
   "version": "3.7.0"
  }
 },
 "nbformat": 4,
 "nbformat_minor": 2
}
