{
 "cells": [
  {
   "cell_type": "code",
   "execution_count": 173,
   "metadata": {},
   "outputs": [],
   "source": [
    "baseurl = \"https://www.valueresearchonline.com/api/stocks/key-ratio-chart/2933\"\n",
    "headers = {}\n",
    "headers= \"Mozilla/5.0 (X11; Linux i686) AppleWebKit/537.17 (KHTML, like Gecko) Chrome/24.0.1312.27 Safari/537.17\"\n",
    "\n",
    "import sys\n",
    "import json\n",
    "import datetime\n",
    "import urllib\n",
    "import numpy as np\n",
    "import datetime\n",
    "import pandas as pd\n",
    "from datetime import timedelta\n",
    "import ipywidgets as widgets\n",
    "from ipywidgets import interact, interact_manual\n",
    "\n",
    "epoch = datetime.datetime.utcfromtimestamp(0)\n",
    "def unix_time_millis(dt):\n",
    "    return int(round((dt - epoch).total_seconds() * 1000.0, 0))\n"
   ]
  },
  {
   "cell_type": "code",
   "execution_count": 166,
   "metadata": {},
   "outputs": [],
   "source": [
    "prices = pd.read_csv ('prices_small.csv')\n",
    "max_price_date = prices.Date.max()"
   ]
  },
  {
   "cell_type": "code",
   "execution_count": 167,
   "metadata": {},
   "outputs": [],
   "source": [
    "\n",
    "# prices_small = prices[prices.Date >= max_price_date]\n",
    "# prices_small.shape\n",
    "# prices_small.to_csv('prices_small.csv', index=False)"
   ]
  },
  {
   "cell_type": "code",
   "execution_count": 169,
   "metadata": {},
   "outputs": [
    {
     "data": {
      "text/html": [
       "<div>\n",
       "<style scoped>\n",
       "    .dataframe tbody tr th:only-of-type {\n",
       "        vertical-align: middle;\n",
       "    }\n",
       "\n",
       "    .dataframe tbody tr th {\n",
       "        vertical-align: top;\n",
       "    }\n",
       "\n",
       "    .dataframe thead th {\n",
       "        text-align: right;\n",
       "    }\n",
       "</style>\n",
       "<table border=\"1\" class=\"dataframe\">\n",
       "  <thead>\n",
       "    <tr style=\"text-align: right;\">\n",
       "      <th></th>\n",
       "      <th>100D Change</th>\n",
       "      <th>10D Change</th>\n",
       "      <th>150D Change</th>\n",
       "      <th>1D Change</th>\n",
       "      <th>200D Change</th>\n",
       "      <th>20D Change</th>\n",
       "      <th>30D Change</th>\n",
       "      <th>50D Change</th>\n",
       "      <th>5D Change</th>\n",
       "      <th>Close</th>\n",
       "      <th>Date</th>\n",
       "      <th>NAME OF COMPANY</th>\n",
       "      <th>SYMBOL</th>\n",
       "      <th>Volume</th>\n",
       "    </tr>\n",
       "  </thead>\n",
       "  <tbody>\n",
       "    <tr>\n",
       "      <th>1056</th>\n",
       "      <td>0.453732</td>\n",
       "      <td>5.913264</td>\n",
       "      <td>-2.02053</td>\n",
       "      <td>3.617603</td>\n",
       "      <td>8.731528</td>\n",
       "      <td>-17.624811</td>\n",
       "      <td>-13.179042</td>\n",
       "      <td>-7.347693</td>\n",
       "      <td>-0.434977</td>\n",
       "      <td>1350.5</td>\n",
       "      <td>2020-04-09</td>\n",
       "      <td>Pidilite Industries Limited</td>\n",
       "      <td>PIDILITIND</td>\n",
       "      <td>293300.0</td>\n",
       "    </tr>\n",
       "  </tbody>\n",
       "</table>\n",
       "</div>"
      ],
      "text/plain": [
       "      100D Change  10D Change  150D Change  1D Change  200D Change  \\\n",
       "1056     0.453732    5.913264     -2.02053   3.617603     8.731528   \n",
       "\n",
       "      20D Change  30D Change  50D Change  5D Change   Close        Date  \\\n",
       "1056  -17.624811  -13.179042   -7.347693  -0.434977  1350.5  2020-04-09   \n",
       "\n",
       "                  NAME OF COMPANY      SYMBOL    Volume  \n",
       "1056  Pidilite Industries Limited  PIDILITIND  293300.0  "
      ]
     },
     "execution_count": 169,
     "metadata": {},
     "output_type": "execute_result"
    }
   ],
   "source": [
    "prices[(prices['NAME OF COMPANY'].str.startswith('Pidi')) & (prices.Date >=max_price_date)]"
   ]
  },
  {
   "cell_type": "code",
   "execution_count": 170,
   "metadata": {},
   "outputs": [],
   "source": [
    "file_name = 'vro_revenues.csv'\n",
    "all_data = pd.read_csv(file_name)\n",
    "all_data = all_data[~all_data['Stock Name'].str.startswith('S&P')]"
   ]
  },
  {
   "cell_type": "code",
   "execution_count": 171,
   "metadata": {},
   "outputs": [
    {
     "data": {
      "text/plain": [
       "(5713, 9)"
      ]
     },
     "execution_count": 171,
     "metadata": {},
     "output_type": "execute_result"
    }
   ],
   "source": [
    "all_data['1y_change'] = all_data.sort_values('Date').groupby(['Stock Name', 'name']).value.pct_change(1)\n",
    "all_data['2y_change'] = all_data.sort_values('Date').groupby(['Stock Name', 'name']).value.pct_change(2)\n",
    "all_data['3y_change'] = all_data.sort_values('Date').groupby(['Stock Name', 'name']).value.pct_change(3)\n",
    "all_data = all_data[all_data['1y_change']>0]\n",
    "all_data = all_data[all_data['2y_change']>0]\n",
    "all_data = all_data[all_data.name != 'RoE']\n",
    "all_data.dropna(inplace=True)\n",
    "all_data.shape"
   ]
  },
  {
   "cell_type": "code",
   "execution_count": 172,
   "metadata": {},
   "outputs": [
    {
     "data": {
      "text/html": [
       "<div>\n",
       "<style scoped>\n",
       "    .dataframe tbody tr th:only-of-type {\n",
       "        vertical-align: middle;\n",
       "    }\n",
       "\n",
       "    .dataframe tbody tr th {\n",
       "        vertical-align: top;\n",
       "    }\n",
       "\n",
       "    .dataframe thead th {\n",
       "        text-align: right;\n",
       "    }\n",
       "</style>\n",
       "<table border=\"1\" class=\"dataframe\">\n",
       "  <thead>\n",
       "    <tr style=\"text-align: right;\">\n",
       "      <th></th>\n",
       "      <th>Date</th>\n",
       "      <th>Stock Name</th>\n",
       "      <th>name</th>\n",
       "      <th>ticker_id</th>\n",
       "      <th>value</th>\n",
       "      <th>yearly_change</th>\n",
       "      <th>1y_change</th>\n",
       "      <th>2y_change</th>\n",
       "      <th>3y_change</th>\n",
       "    </tr>\n",
       "  </thead>\n",
       "  <tbody>\n",
       "    <tr>\n",
       "      <th>56619</th>\n",
       "      <td>2019-03-01</td>\n",
       "      <td>Pidilite Industries</td>\n",
       "      <td>Revenue</td>\n",
       "      <td>2933.0</td>\n",
       "      <td>7078.74</td>\n",
       "      <td>0.164571</td>\n",
       "      <td>0.164571</td>\n",
       "      <td>0.260282</td>\n",
       "      <td>0.320372</td>\n",
       "    </tr>\n",
       "    <tr>\n",
       "      <th>56620</th>\n",
       "      <td>2019-12-01</td>\n",
       "      <td>Pidilite Industries</td>\n",
       "      <td>Revenue</td>\n",
       "      <td>2933.0</td>\n",
       "      <td>7388.91</td>\n",
       "      <td>0.043817</td>\n",
       "      <td>0.043817</td>\n",
       "      <td>0.215599</td>\n",
       "      <td>0.315504</td>\n",
       "    </tr>\n",
       "    <tr>\n",
       "      <th>56625</th>\n",
       "      <td>2019-12-01</td>\n",
       "      <td>Pidilite Industries</td>\n",
       "      <td>Earnings</td>\n",
       "      <td>2933.0</td>\n",
       "      <td>23.50</td>\n",
       "      <td>0.290500</td>\n",
       "      <td>0.290500</td>\n",
       "      <td>0.240106</td>\n",
       "      <td>0.401312</td>\n",
       "    </tr>\n",
       "    <tr>\n",
       "      <th>75608</th>\n",
       "      <td>2019-03-01</td>\n",
       "      <td>Pidilite Industries</td>\n",
       "      <td>Cash From Operations</td>\n",
       "      <td>2933.0</td>\n",
       "      <td>844.78</td>\n",
       "      <td>0.060708</td>\n",
       "      <td>0.060708</td>\n",
       "      <td>0.064290</td>\n",
       "      <td>-0.069082</td>\n",
       "    </tr>\n",
       "  </tbody>\n",
       "</table>\n",
       "</div>"
      ],
      "text/plain": [
       "             Date           Stock Name                  name  ticker_id  \\\n",
       "56619  2019-03-01  Pidilite Industries               Revenue     2933.0   \n",
       "56620  2019-12-01  Pidilite Industries               Revenue     2933.0   \n",
       "56625  2019-12-01  Pidilite Industries              Earnings     2933.0   \n",
       "75608  2019-03-01  Pidilite Industries  Cash From Operations     2933.0   \n",
       "\n",
       "         value  yearly_change  1y_change  2y_change  3y_change  \n",
       "56619  7078.74       0.164571   0.164571   0.260282   0.320372  \n",
       "56620  7388.91       0.043817   0.043817   0.215599   0.315504  \n",
       "56625    23.50       0.290500   0.290500   0.240106   0.401312  \n",
       "75608   844.78       0.060708   0.060708   0.064290  -0.069082  "
      ]
     },
     "execution_count": 172,
     "metadata": {},
     "output_type": "execute_result"
    }
   ],
   "source": [
    "all_data[all_data['Stock Name'].str.startswith('Pidil') ]"
   ]
  },
  {
   "cell_type": "code",
   "execution_count": 174,
   "metadata": {},
   "outputs": [
    {
     "data": {
      "text/plain": [
       "(71459.0, 611934.0, '2019-12-01')"
      ]
     },
     "execution_count": 174,
     "metadata": {},
     "output_type": "execute_result"
    }
   ],
   "source": [
    "max_revenue = all_data[all_data.name=='Revenue'].value.max()\n",
    "max_cash = all_data[all_data.name=='Cash From Operations'].value.max()\n",
    "max_vro_cash_flow_date = all_data[all_data.name == 'Cash From Operations']['Date'].max()\n",
    "max_vro_revenue_date = all_data[all_data.name == 'Revenue']['Date'].max()\n",
    "max_cash, max_revenue, max_vro_cash_flow_date"
   ]
  },
  {
   "cell_type": "code",
   "execution_count": 181,
   "metadata": {},
   "outputs": [
    {
     "data": {
      "application/vnd.jupyter.widget-view+json": {
       "model_id": "f92922a4520c4b73a6e8ca04a90435d0",
       "version_major": 2,
       "version_minor": 0
      },
      "text/plain": [
       "interactive(children=(IntSlider(value=6, description='cash_flow_change', max=10, min=2), IntSlider(value=6, de…"
      ]
     },
     "metadata": {},
     "output_type": "display_data"
    }
   ],
   "source": [
    "@interact\n",
    "def filter_cash_flow(cash_flow_change = (2,10), revenue_1y_change = (2,10), min_revenue = (4000, 15000, 500)):\n",
    "    stocks_by_cash_change = all_data.loc[(all_data.name == 'Cash From Operations') & (all_data['1y_change'] > cash_flow_change/100) & (all_data.Date >= '2019-03-01') ]['Stock Name'].unique().tolist()\n",
    "    stocks_by_rev_change = all_data.loc[(all_data.name == 'Revenue') & (all_data['1y_change'] > revenue_1y_change/100) & (all_data.Date >= '2019-12-01')]['Stock Name'].unique().tolist()\n",
    "    stock_with_min_revenue = all_data.loc[(all_data.name == 'Revenue') & (all_data.value >= min_revenue)]['Stock Name'].unique().tolist()\n",
    "    stocks = set(stocks_by_cash_change).intersection(set(stocks_by_rev_change)).intersection(set(stock_with_min_revenue))\n",
    "    df= all_data.loc[(all_data['Stock Name'].isin(stocks)) & (all_data.Date == max_vro_date) ]\n",
    "    df = df.loc[(df.name == 'Revenue')]\n",
    "    prices_df = pd.DataFrame()\n",
    "    for stock in stocks:\n",
    "        p = prices.loc[(prices['NAME OF COMPANY'].str.startswith(stock)) & (prices.Date >=max_price_date)]\n",
    "        if len(p)>0:\n",
    "            p['Stock Name'] = stock\n",
    "            prices_df = pd.concat([prices_df, p])\n",
    "\n",
    "    df = df.merge(prices_df, on='Stock Name', how = 'left')\n",
    "    df = df.drop(['100D Change', '200D Change', '150D Change', 'yearly_change', 'value', 'NAME OF COMPANY', '3y_change', 'ticker_id', 'SYMBOL', 'Date_x'], axis=1)\n",
    "    return df.sort_values(['5D Change'])\n"
   ]
  },
  {
   "cell_type": "code",
   "execution_count": null,
   "metadata": {},
   "outputs": [],
   "source": []
  },
  {
   "cell_type": "code",
   "execution_count": null,
   "metadata": {},
   "outputs": [],
   "source": []
  },
  {
   "cell_type": "code",
   "execution_count": 100,
   "metadata": {},
   "outputs": [
    {
     "data": {
      "application/vnd.jupyter.widget-view+json": {
       "model_id": "3c561628f2bd466cb52faf1891b3d005",
       "version_major": 2,
       "version_minor": 0
      },
      "text/plain": [
       "interactive(children=(IntSlider(value=15000, description='revenue', max=30000, step=100), IntSlider(value=5000…"
      ]
     },
     "metadata": {},
     "output_type": "display_data"
    }
   ],
   "source": [
    "@interact\n",
    "def filter_cash_flow(revenue = (0, 30000, 100), cash = (0, 10000, 100), revenue_1y_change = (2,20) ):\n",
    "    stocks_by_revenue = all_data.loc[(all_data.name == 'Revenue') & (all_data.value > revenue) & (all_data.Date == '2019-12-01')]['Stock Name'].unique().tolist()\n",
    "    print(len(stocks_by_revenue))\n",
    "    stocks_by_cash = all_data.loc[(all_data.name == 'Cash From Operations') & (all_data.value > cash) ]['Stock Name'].unique().tolist()\n",
    "    stocks_by_rev_change = all_data.loc[(all_data.name == 'Revenue') & (all_data['1y_change'] > revenue_1y_change/100) & (all_data.Date == '2019-12-01')]['Stock Name'].unique().tolist()\n",
    "    print(len(stocks_by_rev_change))\n",
    "    stocks = set(stocks_by_revenue).intersection(set(stocks_by_cash)).intersection(set(stocks_by_rev_change))\n",
    "    print(len(stocks))\n",
    "    df= all_data[(all_data['Stock Name'].isin(stocks)) & (all_data.Date == max_vro_date) ]\n",
    "#     df = df[(df.name == 'Cash From Operations') & (df.value > cash)]\n",
    "#     df = all_data[(all_data['Stock Name'].isin(stocks)) & (all_data.Date == '2019-12-01')]\n",
    "#     df = df.pivot_table('1y_change', index='Stock Name', columns='name')\n",
    "    prices_df = pd.DataFrame()\n",
    "    for stock in stocks:\n",
    "        p = prices[(prices['NAME OF COMPANY'].str.startswith(stock)) & (prices.Date >=max_price_date)]\n",
    "        prices_df = pd.concat([prices_df, p])\n",
    "    \n",
    "    return prices_df"
   ]
  },
  {
   "cell_type": "code",
   "execution_count": null,
   "metadata": {},
   "outputs": [],
   "source": []
  }
 ],
 "metadata": {
  "kernelspec": {
   "display_name": "Python 3",
   "language": "python",
   "name": "python3"
  },
  "language_info": {
   "codemirror_mode": {
    "name": "ipython",
    "version": 3
   },
   "file_extension": ".py",
   "mimetype": "text/x-python",
   "name": "python",
   "nbconvert_exporter": "python",
   "pygments_lexer": "ipython3",
   "version": "3.7.0"
  }
 },
 "nbformat": 4,
 "nbformat_minor": 2
}
